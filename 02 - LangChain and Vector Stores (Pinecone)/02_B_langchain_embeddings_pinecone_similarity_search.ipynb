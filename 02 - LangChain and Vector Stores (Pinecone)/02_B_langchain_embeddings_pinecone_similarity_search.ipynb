{
 "cells": [
  {
   "cell_type": "markdown",
   "id": "5f10b4d1",
   "metadata": {},
   "source": [
    "### Base Imports"
   ]
  },
  {
   "cell_type": "code",
   "execution_count": 3,
   "id": "8859749e",
   "metadata": {},
   "outputs": [
    {
     "data": {
      "text/plain": [
       "True"
      ]
     },
     "execution_count": 3,
     "metadata": {},
     "output_type": "execute_result"
    }
   ],
   "source": [
    "import os\n",
    "import tiktoken\n",
    "from dotenv import load_dotenv, find_dotenv\n",
    "load_dotenv(find_dotenv(), override=True)"
   ]
  },
  {
   "cell_type": "markdown",
   "id": "d04f939b",
   "metadata": {},
   "source": [
    "### Splitting and Embedding Text Using LangChain (Similarity Search)"
   ]
  },
  {
   "cell_type": "code",
   "execution_count": 4,
   "id": "5cedb18d",
   "metadata": {},
   "outputs": [],
   "source": [
    "from langchain.text_splitter import RecursiveCharacterTextSplitter\n",
    "\n",
    "with open('files/churchill_speech.txt') as f:\n",
    "    churchill_speech = f.read()\n",
    "\n",
    "text_splitter = RecursiveCharacterTextSplitter(\n",
    "    chunk_size=100,\n",
    "    chunk_overlap=20,\n",
    "    length_function=len # indicates how the length of the chunks should be calculated\n",
    ")"
   ]
  },
  {
   "cell_type": "code",
   "execution_count": 11,
   "id": "e0693ae6",
   "metadata": {},
   "outputs": [
    {
     "name": "stdout",
     "output_type": "stream",
     "text": [
      "Now you have 300 chunks\n",
      "penetration were realized and when a new French Generalissimo, General Weygand, assumed\n"
     ]
    }
   ],
   "source": [
    "# Creating the chunks\n",
    "chunks = text_splitter.create_documents([churchill_speech])\n",
    "\n",
    "# Print the number of chunks\n",
    "#print(f'Now you have {len(chunks)} chunks')\n",
    "\n",
    "# Print the content of the 10th chunk\n",
    "print(chunks[10].page_content)"
   ]
  },
  {
   "cell_type": "markdown",
   "id": "df4d686b",
   "metadata": {},
   "source": [
    "#### Embedding Cost"
   ]
  },
  {
   "cell_type": "code",
   "execution_count": 13,
   "id": "8ed819e6",
   "metadata": {},
   "outputs": [
    {
     "name": "stdout",
     "output_type": "stream",
     "text": [
      "Total Tokens: 4820\n",
      "Embedding Cost in USD: 0.000096\n"
     ]
    }
   ],
   "source": [
    "def print_embedding_cost(texts):\n",
    "    \n",
    "    # Defining the model used for the encoding the text into embeddings\n",
    "    # Recommended model: text-embedding-3-small / text-embedding-3-medium / text-embedding-3-large (ada-002 will retire soon)\n",
    "    enc = tiktoken.encoding_for_model('text-embedding-3-small')\n",
    "\n",
    "    # Calculating the total number of tokens\n",
    "    total_tokens = sum([len(enc.encode(page.page_content)) for page in texts])\n",
    "    \n",
    "    # Printing the total number of tokens and the embedding cost in USD\n",
    "    print(f'Total Tokens: {total_tokens}')\n",
    "    print(f'Embedding Cost in USD: {total_tokens / 1000 * 0.00002:.6f}')\n",
    "\n",
    "# Function call to print the embedding cost    \n",
    "print_embedding_cost(chunks)"
   ]
  },
  {
   "cell_type": "markdown",
   "id": "bdf79b3b",
   "metadata": {},
   "source": [
    "### Creating embeddings"
   ]
  },
  {
   "cell_type": "code",
   "execution_count": 14,
   "id": "3bdfd40d",
   "metadata": {},
   "outputs": [],
   "source": [
    "from langchain_openai import OpenAIEmbeddings\n",
    "\n",
    "# Creating the OpenAIEmbeddings object\n",
    "embeddings = OpenAIEmbeddings(model='text-embedding-3-small', dimensions=1536)  # 512 works as well"
   ]
  },
  {
   "cell_type": "code",
   "execution_count": null,
   "id": "425c3c35",
   "metadata": {},
   "outputs": [],
   "source": [
    "# Embed the content of the first chunk into a vector\n",
    "vector = embeddings.embed_query(chunks[0].page_content)\n",
    "vector"
   ]
  },
  {
   "cell_type": "markdown",
   "id": "96f866ff",
   "metadata": {},
   "source": [
    "### Inserting the Embeddings into a Pinecone Index"
   ]
  },
  {
   "cell_type": "code",
   "execution_count": 7,
   "id": "5215b7e7",
   "metadata": {},
   "outputs": [],
   "source": [
    "# Importing the necessary libraries and initializing the Pinecone client\n",
    "import os\n",
    "import pinecone\n",
    "from langchain_community.vectorstores import Pinecone\n",
    "\n",
    "# Initializing the Pinecone client\n",
    "pc = pinecone.Pinecone()"
   ]
  },
  {
   "cell_type": "markdown",
   "id": "76c4ad04",
   "metadata": {},
   "source": [
    "### Code to Delete all the existing indexes"
   ]
  },
  {
   "cell_type": "code",
   "execution_count": 8,
   "id": "bb3b94b4",
   "metadata": {},
   "outputs": [
    {
     "name": "stdout",
     "output_type": "stream",
     "text": [
      "Deleting all indexes ... Done\n"
     ]
    }
   ],
   "source": [
    "# Deleting all indexes\n",
    "indexes = pc.list_indexes().names()\n",
    "for i in indexes:\n",
    "    print('Deleting all indexes ... ', end='')\n",
    "    pc.delete_index(i)\n",
    "    print('Done')"
   ]
  },
  {
   "cell_type": "markdown",
   "id": "027bfa79",
   "metadata": {},
   "source": [
    "### Code to Create a New Index"
   ]
  },
  {
   "cell_type": "code",
   "execution_count": 15,
   "id": "cc9404a9",
   "metadata": {},
   "outputs": [
    {
     "name": "stdout",
     "output_type": "stream",
     "text": [
      "Creating index churchill-speech\n",
      "Index created! 😊\n"
     ]
    }
   ],
   "source": [
    "# 1. Creating an index\n",
    "from pinecone import PodSpec\n",
    "\n",
    "# Setting the Index name\n",
    "index_name = 'churchill-speech'\n",
    "\n",
    "# Checking if the index already exists\n",
    "if index_name not in pc.list_indexes().names():\n",
    "    print(f'Creating index {index_name}')\n",
    "    \n",
    "    # Creating the index\n",
    "    pc.create_index(name=index_name, dimension=1536, metric='cosine', spec=PodSpec(environment='gcp-starter'))\n",
    "    \n",
    "    print('Index created! 😊')\n",
    "else:\n",
    "    print(f'Index {index_name} already exists!')"
   ]
  },
  {
   "cell_type": "code",
   "execution_count": 16,
   "id": "9bb84fba",
   "metadata": {},
   "outputs": [],
   "source": [
    "# Processing the input documents, generating embeddings using the provided `OpenAIEmbeddings` instance\n",
    "# inserting the embeddings into the index and returning a new Pinecone vector store object. \n",
    "vector_store = Pinecone.from_documents(chunks, embeddings, index_name=index_name)"
   ]
  },
  {
   "cell_type": "markdown",
   "id": "6c2abc10",
   "metadata": {},
   "source": [
    "### Load the Vector Store from an Existing Index"
   ]
  },
  {
   "cell_type": "code",
   "execution_count": 23,
   "id": "45734613",
   "metadata": {},
   "outputs": [],
   "source": [
    "vectorStoreExisting = Pinecone.from_existing_index(index_name='churchill-speech', embedding=embeddings)"
   ]
  },
  {
   "cell_type": "code",
   "execution_count": 17,
   "id": "014acab8-ecd0-456c-976d-4b5890f8b0ab",
   "metadata": {},
   "outputs": [
    {
     "data": {
      "text/plain": [
       "{'dimension': 1536,\n",
       " 'index_fullness': 0.003,\n",
       " 'namespaces': {'': {'vector_count': 300}},\n",
       " 'total_vector_count': 300}"
      ]
     },
     "execution_count": 17,
     "metadata": {},
     "output_type": "execute_result"
    }
   ],
   "source": [
    "# First select the index\n",
    "index = pc.Index(index_name)\n",
    "index.describe_index_stats()"
   ]
  },
  {
   "cell_type": "markdown",
   "id": "0cb0b01d",
   "metadata": {},
   "source": [
    "### Asking Questions (Similarity Search)"
   ]
  },
  {
   "cell_type": "code",
   "execution_count": 21,
   "id": "e4cccccd",
   "metadata": {},
   "outputs": [
    {
     "name": "stdout",
     "output_type": "stream",
     "text": [
      "Number of results returned: 4\n"
     ]
    }
   ],
   "source": [
    "query = 'Where should we fight?'\n",
    "result = vector_store.similarity_search(query)\n",
    "print(f'Number of results returned: {len(result)}')"
   ]
  },
  {
   "cell_type": "markdown",
   "id": "7d17f1c1",
   "metadata": {},
   "source": [
    "### Print the content of the Results"
   ]
  },
  {
   "cell_type": "code",
   "execution_count": 19,
   "id": "0bdacf56",
   "metadata": {
    "scrolled": true
   },
   "outputs": [
    {
     "name": "stdout",
     "output_type": "stream",
     "text": [
      "shall fight on the beaches, we shall fight on the landing grounds, we shall fight in the fields and\n",
      "--------------------------------------------------\n",
      "end, we shall fight in France, we shall fight on the seas and oceans, we shall fight with growing\n",
      "--------------------------------------------------\n",
      "streets, we shall fight in the hills; we shall never surrender, and even if, which I do not for a\n",
      "--------------------------------------------------\n",
      "number of the enemy, and fought fiercely on some of the old grounds that so many of us knew so\n",
      "--------------------------------------------------\n"
     ]
    }
   ],
   "source": [
    "for r in result:\n",
    "    print(r.page_content)\n",
    "    print('-' * 50)"
   ]
  },
  {
   "cell_type": "markdown",
   "id": "5f155a46",
   "metadata": {},
   "source": [
    "### Answering in Natural Language using an LLM"
   ]
  },
  {
   "cell_type": "code",
   "execution_count": 24,
   "id": "19cf0082",
   "metadata": {},
   "outputs": [],
   "source": [
    "from langchain.chains import RetrievalQA\n",
    "from langchain_openai import ChatOpenAI\n",
    "\n",
    "# Initialize the LLM with the specified model and temperature\n",
    "llm = ChatOpenAI(model='gpt-3.5-turbo', temperature=0.2)\n",
    "\n",
    "# Use the provided vector store with similarity search and retrieve top 3 results\n",
    "retriever = vector_store.as_retriever(search_type='similarity', search_kwargs={'k': 3})\n",
    "\n",
    "# Create a RetrievalQA chain using the defined LLM, chain type 'stuff', and retriever\n",
    "chain = RetrievalQA.from_chain_type(llm=llm, chain_type='stuff', retriever=retriever)\n"
   ]
  },
  {
   "cell_type": "code",
   "execution_count": 25,
   "id": "bf8e6835",
   "metadata": {},
   "outputs": [
    {
     "name": "stdout",
     "output_type": "stream",
     "text": [
      "{'query': 'Answer only from the provided input. Where should we fight?', 'result': 'We shall fight on the beaches, we shall fight on the landing grounds, we shall fight in the fields and streets, we shall fight in the hills.'}\n"
     ]
    }
   ],
   "source": [
    "query = 'Answer only from the provided input. Where should we fight?'\n",
    "answer = chain.invoke(query)\n",
    "print(answer)"
   ]
  },
  {
   "cell_type": "code",
   "execution_count": 35,
   "id": "09c9ab37",
   "metadata": {},
   "outputs": [
    {
     "name": "stdout",
     "output_type": "stream",
     "text": [
      "Query: Who was the king of Belgium at that time?\n",
      "Answer: The king of Belgium at that time was King Leopold.\n"
     ]
    }
   ],
   "source": [
    "query = 'Who was the king of Belgium at that time?'\n",
    "answer = chain.invoke(query)\n",
    "print(f'Query: {answer[\"query\"]}')\n",
    "print(f'Answer: {answer[\"result\"]}')"
   ]
  },
  {
   "cell_type": "code",
   "execution_count": 29,
   "id": "c8688ba8",
   "metadata": {},
   "outputs": [
    {
     "name": "stdout",
     "output_type": "stream",
     "text": [
      "The French Armies were involved in the fighting, particularly in the area around the Somme. They were tasked with advancing across the Somme in great strength.\n"
     ]
    }
   ],
   "source": [
    "query = 'What about the French Armies??'\n",
    "answer = chain.invoke(query)\n",
    "print(answer['result'])"
   ]
  }
 ],
 "metadata": {
  "kernelspec": {
   "display_name": "Python 3 (ipykernel)",
   "language": "python",
   "name": "python3"
  },
  "language_info": {
   "codemirror_mode": {
    "name": "ipython",
    "version": 3
   },
   "file_extension": ".py",
   "mimetype": "text/x-python",
   "name": "python",
   "nbconvert_exporter": "python",
   "pygments_lexer": "ipython3",
   "version": "3.11.7"
  },
  "widgets": {
   "application/vnd.jupyter.widget-state+json": {
    "state": {},
    "version_major": 2,
    "version_minor": 0
   }
  }
 },
 "nbformat": 4,
 "nbformat_minor": 5
}
